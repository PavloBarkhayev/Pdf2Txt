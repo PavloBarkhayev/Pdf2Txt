{
 "cells": [
  {
   "cell_type": "code",
   "execution_count": 4,
   "id": "bc58efc4-8715-4f38-8e59-7d487221f8f6",
   "metadata": {},
   "outputs": [],
   "source": [
    "import pymupdf  # PyMuPDF\n",
    "import re\n",
    "import csv"
   ]
  },
  {
   "cell_type": "code",
   "execution_count": 5,
   "id": "6ac5d1f5-17bf-4836-9066-82c90d916b37",
   "metadata": {},
   "outputs": [],
   "source": [
    "doc = pymupdf.open('_pdf/pp21-23.pdf')"
   ]
  },
  {
   "cell_type": "code",
   "execution_count": 13,
   "id": "5955305c-006b-473a-90a4-78366dca8ceb",
   "metadata": {},
   "outputs": [],
   "source": [
    "def extract_articles_with_pages(doc):\n",
    "    articles = []\n",
    "    current_article = None\n",
    "\n",
    "    for page_number in range(len(doc)):\n",
    "        page = doc[page_number]\n",
    "        text = page.get_text()\n",
    "        lines = text.split('\\n')\n",
    "\n",
    "        for i, line in enumerate(lines):\n",
    "            article_match = re.match(r'Article\\s+(\\d+)', line)\n",
    "            if article_match:\n",
    "                if current_article:\n",
    "                    articles.append(current_article)\n",
    "                current_article = {\n",
    "                    'article_number': f\"Article {article_match.group(1)}\",\n",
    "                    'title': lines[i + 1].strip() if i + 1 < len(lines) else '',\n",
    "                    'body': '',\n",
    "                    'start_page': page_number + 1\n",
    "                }\n",
    "            elif current_article:\n",
    "                current_article['body'] += line + '\\n'\n",
    "\n",
    "    if current_article:\n",
    "        articles.append(current_article)\n",
    "\n",
    "    return articles\n"
   ]
  },
  {
   "cell_type": "code",
   "execution_count": 59,
   "id": "5d1e04df-f25b-4c3b-a3a8-c2e547573114",
   "metadata": {},
   "outputs": [],
   "source": [
    "def extract_requirements_from_article(article):\n",
    "    requirements = []\n",
    "    body_lines = article['body'].splitlines()\n",
    "    current_parent_id = None\n",
    "    current_parent_text = \"\"\n",
    "\n",
    "    # Pattern to detect numbered and lettered requirement IDs\n",
    "    numbered_pattern = re.compile(r'^(\\d)+\\.\\s*(.*)')\n",
    "    lettered_pattern = re.compile(r'^\\(([a-z])\\)\\s*(.*)')\n",
    "\n",
    "    for line in body_lines:\n",
    "        line = line.strip()\n",
    "        if not line:\n",
    "            continue\n",
    "        \n",
    "        numbered_match = numbered_pattern.match(line)\n",
    "        lettered_match = lettered_pattern.match(line)\n",
    "\n",
    "        if numbered_match:\n",
    "            print(line)\n",
    "            if current_parent_id and current_parent_text:\n",
    "                references = re.findall(r'\\b(Article\\s+\\d+|Annex\\s+[A-Z]+)\\b', current_parent_text)\n",
    "                requirements.append({\n",
    "                    'Article': article['article_number'],\n",
    "                    'Title': article['title'],\n",
    "                    'Requirement_ID': current_parent_id,\n",
    "                    'Parent': '',\n",
    "                    'Requirement Text': current_parent_text,\n",
    "                    'References': '; '.join(references),\n",
    "                    'Page': article['start_page']\n",
    "                })\n",
    "            current_parent_id = numbered_match.group(1) + '.'\n",
    "            current_parent_text = numbered_match.group(2).strip()\n",
    "        elif lettered_match and current_parent_id:\n",
    "            print(line)\n",
    "            sub_id = f\"({lettered_match.group(1)})\"\n",
    "            text = lettered_match.group(2).strip()\n",
    "            references = re.findall(r'\\b(Article\\s+\\d+|Annex\\s+[A-Z]+)\\b', text)\n",
    "            requirements.append({\n",
    "                'Article': article['article_number'],\n",
    "                'Title': article['title'],\n",
    "                'Requirement_ID': sub_id,\n",
    "                'Parent': current_parent_id,\n",
    "                'Requirement Text': text,\n",
    "                'References': '; '.join(references),\n",
    "                'Page': article['start_page']\n",
    "            })\n",
    "        else:\n",
    "            if current_parent_id:\n",
    "                current_parent_text += ' ' + line\n",
    "\n",
    "    if current_parent_id and current_parent_text:\n",
    "        references = re.findall(r'\\b(Article\\s+\\d+|Annex\\s+[A-Z]+)\\b', current_parent_text)\n",
    "        requirements.append({\n",
    "            'Article': article['article_number'],\n",
    "            'Title': article['title'],\n",
    "            'Requirement_ID': current_parent_id,\n",
    "            'Parent': '',\n",
    "            'Requirement Text': current_parent_text,\n",
    "            'References': '; '.join(references),\n",
    "            'Page': article['start_page']\n",
    "        })\n",
    "    print(requirements)\n",
    "    return requirements\n"
   ]
  },
  {
   "cell_type": "code",
   "execution_count": 60,
   "id": "e5f1d84b-94d9-4cd2-a9c1-70050233641d",
   "metadata": {},
   "outputs": [],
   "source": [
    "def extract_requirements(pdf_path, output_csv='requirements.csv'):\n",
    "    doc = pymupdf.open(pdf_path)\n",
    "    articles = extract_articles_with_pages(doc)\n",
    "#    print(articles[0])\n",
    "\n",
    "    all_requirements = []\n",
    "    for article in articles[:1]: #\n",
    "        all_requirements.extend(extract_requirements_from_article(article))\n",
    "    print(len(all_requirements))\n",
    "\n",
    "    with open(output_csv, 'w', encoding='utf-8', newline='') as f:\n",
    "        writer = csv.DictWriter(f, fieldnames=[\n",
    "            'Article', 'Title', 'Requirement_ID', 'Parent', 'Requirement Text', 'References', 'Page'\n",
    "        ])\n",
    "        writer.writeheader()\n",
    "        for row in all_requirements:\n",
    "            writer.writerow(row)\n",
    "\n",
    "    return f\"{output_csv}\", len(all_requirements)\n"
   ]
  },
  {
   "cell_type": "code",
   "execution_count": null,
   "id": "8c54ea13-4ba3-4241-9c67-cd7b1eeb76f6",
   "metadata": {},
   "outputs": [],
   "source": []
  },
  {
   "cell_type": "code",
   "execution_count": 61,
   "id": "43756720-098a-42d2-bb99-a46468236f06",
   "metadata": {},
   "outputs": [],
   "source": [
    "inp_path = '_pdf/pp21-23.pdf'\n",
    "out_path = '_csv/pp21-23.csv'"
   ]
  },
  {
   "cell_type": "code",
   "execution_count": null,
   "id": "b679b28a-2462-4d9f-8397-50990f84204c",
   "metadata": {},
   "outputs": [],
   "source": []
  },
  {
   "cell_type": "code",
   "execution_count": 62,
   "id": "b705e8e2-a977-4cb2-95c1-692a091939b5",
   "metadata": {},
   "outputs": [
    {
     "name": "stdout",
     "output_type": "stream",
     "text": [
      "1.\n",
      "2.\n",
      "3.\n",
      "4.\n",
      "5.\n",
      "(a)  the devices are not transferred to another legal entity,\n",
      "(b)  manufacture and use of the devices occur under appropriate quality management systems,\n",
      "(c)  the health institution justifies in its documentation that the target patient group's specific needs cannot be met, or\n",
      "(d)  the health institution provides information upon request on the use of such devices to its competent authority,\n",
      "(e)  the health institution draws up a declaration which it shall make publicly available, including:\n",
      "(i)  the name and address of the manufacturing health institution;\n",
      "(f)  the health institution draws up documentation that makes it possible to have an understanding of the manufacturing\n",
      "(g)  the health institution takes all necessary measures to ensure that all devices are manufactured in accordance with the\n",
      "(h)  the health institution reviews experience gained from clinical use of the devices and takes all necessary corrective\n",
      "6.\n",
      "5.5.2017\n",
      "[{'Article': 'Article 5', 'Title': 'Placing on the market and putting into service', 'Requirement_ID': '1.', 'Parent': '', 'Requirement Text': ' A device may be placed on the market or put into service only if it complies with this Regulation when duly supplied and properly installed, maintained and used in accordance with its intended purpose.', 'References': '', 'Page': 1}, {'Article': 'Article 5', 'Title': 'Placing on the market and putting into service', 'Requirement_ID': '2.', 'Parent': '', 'Requirement Text': ' A device shall meet the general safety and performance requirements set out in Annex I which apply to it, taking into account its intended purpose.', 'References': 'Annex I', 'Page': 1}, {'Article': 'Article 5', 'Title': 'Placing on the market and putting into service', 'Requirement_ID': '3.', 'Parent': '', 'Requirement Text': ' Demonstration of conformity with the general safety and performance requirements shall include a clinical evaluation in accordance with Article 61.', 'References': 'Article 61', 'Page': 1}, {'Article': 'Article 5', 'Title': 'Placing on the market and putting into service', 'Requirement_ID': '4.', 'Parent': '', 'Requirement Text': ' Devices that are manufactured and used within health institutions shall be considered as having been put into service.', 'References': '', 'Page': 1}, {'Article': 'Article 5', 'Title': 'Placing on the market and putting into service', 'Requirement_ID': '(a)', 'Parent': '5.', 'Requirement Text': 'the devices are not transferred to another legal entity,', 'References': '', 'Page': 1}, {'Article': 'Article 5', 'Title': 'Placing on the market and putting into service', 'Requirement_ID': '(b)', 'Parent': '5.', 'Requirement Text': 'manufacture and use of the devices occur under appropriate quality management systems,', 'References': '', 'Page': 1}, {'Article': 'Article 5', 'Title': 'Placing on the market and putting into service', 'Requirement_ID': '(c)', 'Parent': '5.', 'Requirement Text': \"the health institution justifies in its documentation that the target patient group's specific needs cannot be met, or\", 'References': '', 'Page': 1}, {'Article': 'Article 5', 'Title': 'Placing on the market and putting into service', 'Requirement_ID': '(d)', 'Parent': '5.', 'Requirement Text': 'the health institution provides information upon request on the use of such devices to its competent authority,', 'References': '', 'Page': 1}, {'Article': 'Article 5', 'Title': 'Placing on the market and putting into service', 'Requirement_ID': '(e)', 'Parent': '5.', 'Requirement Text': 'the health institution draws up a declaration which it shall make publicly available, including:', 'References': '', 'Page': 1}, {'Article': 'Article 5', 'Title': 'Placing on the market and putting into service', 'Requirement_ID': '(i)', 'Parent': '5.', 'Requirement Text': 'the name and address of the manufacturing health institution;', 'References': '', 'Page': 1}, {'Article': 'Article 5', 'Title': 'Placing on the market and putting into service', 'Requirement_ID': '(f)', 'Parent': '5.', 'Requirement Text': 'the health institution draws up documentation that makes it possible to have an understanding of the manufacturing', 'References': '', 'Page': 1}, {'Article': 'Article 5', 'Title': 'Placing on the market and putting into service', 'Requirement_ID': '(g)', 'Parent': '5.', 'Requirement Text': 'the health institution takes all necessary measures to ensure that all devices are manufactured in accordance with the', 'References': '', 'Page': 1}, {'Article': 'Article 5', 'Title': 'Placing on the market and putting into service', 'Requirement_ID': '(h)', 'Parent': '5.', 'Requirement Text': 'the health institution reviews experience gained from clinical use of the devices and takes all necessary corrective', 'References': '', 'Page': 1}, {'Article': 'Article 5', 'Title': 'Placing on the market and putting into service', 'Requirement_ID': '5.', 'Parent': '', 'Requirement Text': ' With the exception of the relevant general safety and performance requirements set out in Annex I, the requirements of this Regulation shall not apply to devices, manufactured and used only within health institutions established in the Union, provided that all of the following conditions are met: cannot be met at the appropriate level of performance by an equivalent device available on the market, which shall include a justification of their manufacturing, modification and use; (ii)  the details necessary to identify the devices; (iii)  a declaration that the devices meet the general safety and performance requirements set out in Annex I to this Regulation and, where applicable, information on which requirements are not fully met with a reasoned justifi\\xad cation therefor, facility, the manufacturing process, the design and performance data of the devices, including the intended purpose, and that is sufficiently detailed to enable the competent authority to ascertain that the general safety and performance requirements set out in Annex I to this Regulation are met; documentation referred to in point (f), and actions. Member States may require that such health institutions submit to the competent authority any further relevant information about such devices which have been manufactured and used on their territory. Member States shall retain the right to restrict the manufacture and the use of any specific type of such devices and shall be permitted access to inspect the activities of the health institutions. This paragraph shall not apply to devices that are manufactured on an industrial scale.', 'References': 'Annex I; Annex I; Annex I', 'Page': 1}, {'Article': 'Article 5', 'Title': 'Placing on the market and putting into service', 'Requirement_ID': '6.', 'Parent': '', 'Requirement Text': ' In order to ensure the uniform application of Annex I, the Commission may adopt implementing acts to the extent necessary to resolve issues of divergent interpretation and of practical application. Those implementing acts shall be adopted in accordance with the examination procedure referred to in Article 114(3).', 'References': 'Annex I; Article 114', 'Page': 1}, {'Article': 'Article 5', 'Title': 'Placing on the market and putting into service', 'Requirement_ID': '5.', 'Parent': '', 'Requirement Text': '5.2017 L 117/21 Official Journal of the European Union EN', 'References': '', 'Page': 1}]\n",
      "16\n"
     ]
    },
    {
     "data": {
      "text/plain": [
       "('_csv/pp21-23.csv', 16)"
      ]
     },
     "execution_count": 62,
     "metadata": {},
     "output_type": "execute_result"
    }
   ],
   "source": [
    "extract_requirements(inp_path, out_path)"
   ]
  },
  {
   "cell_type": "code",
   "execution_count": null,
   "id": "74c1715a-aa10-403a-b726-b1839e4f615a",
   "metadata": {},
   "outputs": [],
   "source": []
  }
 ],
 "metadata": {
  "kernelspec": {
   "display_name": "Python 3 (ipykernel)",
   "language": "python",
   "name": "python3"
  },
  "language_info": {
   "codemirror_mode": {
    "name": "ipython",
    "version": 3
   },
   "file_extension": ".py",
   "mimetype": "text/x-python",
   "name": "python",
   "nbconvert_exporter": "python",
   "pygments_lexer": "ipython3",
   "version": "3.12.11"
  }
 },
 "nbformat": 4,
 "nbformat_minor": 5
}
